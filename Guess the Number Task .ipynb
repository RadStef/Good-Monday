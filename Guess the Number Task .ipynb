{
 "cells": [
  {
   "cell_type": "code",
   "execution_count": null,
   "metadata": {},
   "outputs": [
    {
     "name": "stdout",
     "output_type": "stream",
     "text": [
      "The secret number is higher than 56\n",
      "The secret number is higher than 55\n",
      "The secret number is lower than 99\n",
      "The secret number is higher than 59\n",
      "The secret number is higher than 75\n",
      "The secret number is higher than 75\n",
      "The secret number is higher than 85\n",
      "The secret number is lower than 91\n",
      "The secret number is lower than 91\n",
      "The secret number is lower than 90\n",
      "You guessed correctly.87 is correct\n"
     ]
    }
   ],
   "source": [
    "##defining the min to max range for the game\n",
    "range_min = 1\n",
    "range_max = 100\n",
    "## defining the starting value to capture the the user input\n",
    "user_guess = 0\n",
    "\n",
    "### defining function to filter out string and request integer input\n",
    "def user_guess_int():\n",
    "    ug = 0\n",
    "    try: \n",
    "        ug = int(input(\"Guess an integer from 1 to 100\"))\n",
    "    except ValueError:\n",
    "        print(\"Please enter a valid integer between 1 and 100\")\n",
    "    return ug   \n",
    "##importing a random function\n",
    "import random\n",
    "\n",
    "## using the random generator for a number in the MIN-MAX range\n",
    "secret = random.randint(range_min ,range_max)\n",
    "\n",
    "##defining while function to capture user input until random generator guessed by user\n",
    "while secret!= user_guess:\n",
    "    ###using the defined function to filter the out strings input\n",
    "    user_guess = user_guess_int()\n",
    "    if (user_guess == 0):\n",
    "        continue\n",
    "    if (user_guess < range_min or user_guess > range_max):\n",
    "        print(\"Please enter a valid integer between 1 and 100\")\n",
    "        continue\n",
    "       ### comparing the user input to generate clue for the next guess\n",
    "    if secret>user_guess:\n",
    "        print(f\"The secret number is higher than {user_guess}\")\n",
    "    elif secret<user_guess:\n",
    "        print (f\"The secret number is lower than {user_guess}\")\n",
    "    else:\n",
    "        print(f\"You guessed correctly. {user_guess} is correct\")\n",
    "    \n",
    "\n",
    "\n",
    "\n",
    "\n"
   ]
  }
 ],
 "metadata": {
  "kernelspec": {
   "display_name": "Python 3",
   "language": "python",
   "name": "python3"
  },
  "language_info": {
   "codemirror_mode": {
    "name": "ipython",
    "version": 3
   },
   "file_extension": ".py",
   "mimetype": "text/x-python",
   "name": "python",
   "nbconvert_exporter": "python",
   "pygments_lexer": "ipython3",
   "version": "3.13.1"
  }
 },
 "nbformat": 4,
 "nbformat_minor": 2
}
