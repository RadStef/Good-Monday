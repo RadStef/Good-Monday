{
 "cells": [
  {
   "cell_type": "code",
   "execution_count": 1,
   "metadata": {},
   "outputs": [
    {
     "name": "stdout",
     "output_type": "stream",
     "text": [
      "Hello World\n"
     ]
    }
   ],
   "source": [
    "print(\"Hello World\")"
   ]
  },
  {
   "cell_type": "code",
   "execution_count": 4,
   "metadata": {},
   "outputs": [
    {
     "name": "stdout",
     "output_type": "stream",
     "text": [
      "55\n"
     ]
    }
   ],
   "source": [
    "variable_number_1 = 28\n",
    "variable_number_2 = 27\n",
    "added_variables = variable_number_1+variable_number_2\n",
    "print(added_variables)"
   ]
  },
  {
   "cell_type": "code",
   "execution_count": 5,
   "metadata": {},
   "outputs": [
    {
     "name": "stdout",
     "output_type": "stream",
     "text": [
      "1196\n"
     ]
    }
   ],
   "source": [
    "user_input1 = input(\"Enter 1st number\")\n",
    "\n",
    "user_input2 = input(\"Enter 2nd number\")\n",
    "\n",
    "#casting input to integer\n",
    "\n",
    "multiplier = int(user_input1) * int(user_input2)\n",
    "\n",
    "print(multiplier)"
   ]
  },
  {
   "cell_type": "code",
   "execution_count": 8,
   "metadata": {},
   "outputs": [
    {
     "name": "stdout",
     "output_type": "stream",
     "text": [
      "2000.0\n"
     ]
    }
   ],
   "source": [
    "avginput1 = int(input(\"Enter 1st number\"))\n",
    "avginput2 = int(input(\"Enter 2nd number\"))\n",
    "avginput3 = int(input(\"Enter 3rd number\"))\n",
    "\n",
    "avg = (avginput1*avginput2*avginput3) / 3\n",
    "\n",
    "\n",
    "print(avg)"
   ]
  },
  {
   "cell_type": "code",
   "execution_count": 12,
   "metadata": {},
   "outputs": [
    {
     "name": "stdout",
     "output_type": "stream",
     "text": [
      "The first number is greater than the second\n"
     ]
    }
   ],
   "source": [
    "#ask user for two comparable variables\n",
    "comp_var1 = int(input(\"Please enter first number\"))\n",
    "comp_var2 = int(input(\"Please enter 2nd number\"))\n",
    "#writing condition for comp_var1 being greater than comp_var2\n",
    "if(comp_var1>comp_var2):\n",
    "    print(\"The first number is greater than the second\")\n",
    "\n",
    "#writing condition for second number being greater than first number\n",
    "elif(comp_var1<comp_var2):\n",
    "    print(\"The second number is greater than the first number\")\n",
    "\n",
    "#writing condition for when numbers are equal:\n",
    "elif(comp_var1==comp_var2):\n",
    "    print(\"The numbers are equal in this case\")"
   ]
  },
  {
   "cell_type": "code",
   "execution_count": 50,
   "metadata": {},
   "outputs": [
    {
     "name": "stdout",
     "output_type": "stream",
     "text": [
      "You were not born in a leap year\n"
     ]
    }
   ],
   "source": [
    "#ask user the birth year:\n",
    "input_year = int(input(\"Enter your birth year\"))\n",
    "\n",
    "#conditions code for leap year:\n",
    "if input_year % 4 == 0:\n",
    "    print(\"You were born in a leap year\")\n",
    "else: \n",
    "    print(\"You were not born in a leap year\")    "
   ]
  },
  {
   "cell_type": "code",
   "execution_count": 55,
   "metadata": {},
   "outputs": [
    {
     "name": "stdout",
     "output_type": "stream",
     "text": [
      "The price for swimming is £2.5\n"
     ]
    }
   ],
   "source": [
    "#task\n",
    "##create a variable hat will get users age:\n",
    "user_age = int(input(\"Enter your age: \"))\n",
    "\n",
    "## setting condition for the amount to be paid by each user:\n",
    "if user_age <20 or user_age>= 65:\n",
    "    price= 0\n",
    "else:\n",
    "    swim_card = input(\"Do you have a swim card? yes/no\")\n",
    "    if swim_card.lower() == \"yes\":\n",
    "        price = float(2.50)\n",
    "    else: \n",
    "        price = float(5.00)\n",
    "\n",
    "#casting to integrate float to string:\n",
    "print(\"The price for swimming is £\" + str(price))\n",
    "\n"
   ]
  },
  {
   "cell_type": "code",
   "execution_count": 58,
   "metadata": {},
   "outputs": [
    {
     "name": "stdout",
     "output_type": "stream",
     "text": [
      "0\n",
      "1\n",
      "2\n",
      "3\n",
      "4\n",
      "5\n",
      "6\n",
      "7\n",
      "8\n",
      "9\n"
     ]
    }
   ],
   "source": [
    "#definite interation:\n",
    "\n",
    "for r in range(10):\n",
    "    print(r)"
   ]
  },
  {
   "cell_type": "code",
   "execution_count": 61,
   "metadata": {},
   "outputs": [
    {
     "name": "stdout",
     "output_type": "stream",
     "text": [
      "It is a nice day\n",
      "It is a nice day\n",
      "It is a nice day\n",
      "It is a nice day\n",
      "It is a nice day\n",
      "It is a nice day\n",
      "It is a nice day\n",
      "It is a nice day\n",
      "It is a nice day\n",
      "It is a nice day\n",
      "It is a nice day\n",
      "It is a nice day\n",
      "It is a nice day\n",
      "It is a nice day\n",
      "It is a nice day\n",
      "It is a nice day\n",
      "It is a nice day\n",
      "It is a nice day\n",
      "It is a nice day\n",
      "It is a nice day\n"
     ]
    }
   ],
   "source": [
    "#create a variable that prints the message 20 times:\n",
    "message = \"It is a nice day\"\n",
    "\n",
    "#create FOR loop to print the message 20 times:\n",
    "for i in range(20):\n",
    "    print(message)"
   ]
  },
  {
   "cell_type": "code",
   "execution_count": 62,
   "metadata": {},
   "outputs": [
    {
     "name": "stdout",
     "output_type": "stream",
     "text": [
      "1. I am Groot\n",
      "2. I am Groot\n",
      "3. I am Groot\n",
      "4. I am Groot\n"
     ]
    }
   ],
   "source": [
    "#task1 loops\n",
    "\n",
    "#ask the user for message:\n",
    "msg=input(\"Enter your message here\")\n",
    "\n",
    "#ask user number of repeated messages:\n",
    "repeat_msg=int(input(\"enter the number of repetitions\"))\n",
    "\n",
    "#create the loop to repeat the message:\n",
    "for i in range(1, repeat_msg +1 ):\n",
    "    print(str(i) + \". \" + msg)\n",
    "    "
   ]
  },
  {
   "cell_type": "code",
   "execution_count": 74,
   "metadata": {},
   "outputs": [
    {
     "name": "stdout",
     "output_type": "stream",
     "text": [
      "\n",
      " Times Table for  1\n",
      "1  x  1  =  1\n",
      "2  x  1  =  2\n",
      "3  x  1  =  3\n",
      "4  x  1  =  4\n",
      "5  x  1  =  5\n",
      "6  x  1  =  6\n",
      "7  x  1  =  7\n",
      "8  x  1  =  8\n",
      "9  x  1  =  9\n",
      "10  x  1  =  10\n",
      "11  x  1  =  11\n",
      "12  x  1  =  12\n",
      "\n",
      " Times Table for  2\n",
      "1  x  2  =  2\n",
      "2  x  2  =  4\n",
      "3  x  2  =  6\n",
      "4  x  2  =  8\n",
      "5  x  2  =  10\n",
      "6  x  2  =  12\n",
      "7  x  2  =  14\n",
      "8  x  2  =  16\n",
      "9  x  2  =  18\n",
      "10  x  2  =  20\n",
      "11  x  2  =  22\n",
      "12  x  2  =  24\n"
     ]
    }
   ],
   "source": [
    "#task2 loops\n",
    "\n",
    "#ask the user for timetable:\n",
    "user_times_table=int(input(\"Enter which times table you want displayed:\"))\n",
    "\n",
    "\n",
    "\n",
    "#create the loop to repeat the message:\n",
    "for x in range(1, user_times_table +1 ):\n",
    "    print(\"\\n Times Table for \", x)\n",
    "    for i in range(1,13):\n",
    "        print(i, \" x \", x, \" = \", i*x)\n",
    "    "
   ]
  },
  {
   "cell_type": "code",
   "execution_count": 75,
   "metadata": {},
   "outputs": [
    {
     "name": "stdout",
     "output_type": "stream",
     "text": [
      "1\n",
      "2\n",
      "3\n",
      "4\n",
      "5\n",
      "6\n",
      "7\n",
      "8\n",
      "9\n"
     ]
    }
   ],
   "source": [
    "#indefinite iteration -while loop\n",
    "count = 1\n",
    "while count <10:\n",
    "    print(count)\n",
    "    count += 1\n"
   ]
  },
  {
   "cell_type": "code",
   "execution_count": 81,
   "metadata": {},
   "outputs": [
    {
     "name": "stdout",
     "output_type": "stream",
     "text": [
      "Access Granted!\n"
     ]
    }
   ],
   "source": [
    "#initialize empty string:\n",
    "entry = \"\"\n",
    "password = \"letmein\"\n",
    "\n",
    "##start the while loop\n",
    "while entry != password:\n",
    "    entry = input(\"Enter your password\")\n",
    "print(\"Access Granted!\")\n"
   ]
  },
  {
   "cell_type": "code",
   "execution_count": null,
   "metadata": {},
   "outputs": [],
   "source": [
    "while guess !=\"Rumplestiltskin\":\n",
    "    guess = input(\"Guess My Name:\")"
   ]
  },
  {
   "cell_type": "code",
   "execution_count": null,
   "metadata": {},
   "outputs": [],
   "source": [
    "while True:\n",
    "    guess = input(\"Guess My Name:\")\n",
    "    if guess ==\"Rumplestiltskin\":\n",
    "        print(\"Correct!\")\n",
    "        break\n",
    "    print(\"Wrong!\")\n"
   ]
  },
  {
   "cell_type": "code",
   "execution_count": null,
   "metadata": {},
   "outputs": [],
   "source": [
    "while True:\n",
    "    guess = input(\"Guess My Name\")\n",
    "    if guess != \"Rumplestiltskin\":\n",
    "        print(\"Wrong!\")\n",
    "        continue\n",
    "    print(\"Correct!\")\n",
    "    break\n",
    "\n"
   ]
  },
  {
   "cell_type": "code",
   "execution_count": null,
   "metadata": {},
   "outputs": [
    {
     "name": "stdout",
     "output_type": "stream",
     "text": [
      "Total is  19\n"
     ]
    }
   ],
   "source": [
    "#Task whiles Loop - Grant Solution\n",
    "#initialize variables: \n",
    "number = int(input(\"Please enter number - enter 0 to end\"))\n",
    "total = 0\n",
    "\n",
    "#sum numners in a loop until number entered is 0\n",
    "while number!=0:\n",
    "    total +=number\n",
    "    number = int(input(\"Enter new number -enter 0 to end\"))\n",
    "\n",
    "#print total\n",
    "print(\"Total is \", total)"
   ]
  },
  {
   "cell_type": "code",
   "execution_count": 84,
   "metadata": {},
   "outputs": [
    {
     "name": "stdout",
     "output_type": "stream",
     "text": [
      "The total of your numbers is:  17\n"
     ]
    }
   ],
   "source": [
    "#Task whiles Loop - Tutor Solution\n",
    "##initialise the total\n",
    "total = 0\n",
    "\n",
    "##ask the users to enter a number until the user enters 0\n",
    "while True:\n",
    "    number = int(input(\"Please enter a number - enter 0 to end\"))\n",
    "\n",
    "    #check if number entered is 0\n",
    "    if number==0:\n",
    "        break\n",
    "    ### add the total:\n",
    "    total +=number\n",
    "\n",
    "print(\"The total of your numbers is: \", total)\n",
    "\n"
   ]
  }
 ],
 "metadata": {
  "kernelspec": {
   "display_name": "Python 3",
   "language": "python",
   "name": "python3"
  },
  "language_info": {
   "codemirror_mode": {
    "name": "ipython",
    "version": 3
   },
   "file_extension": ".py",
   "mimetype": "text/x-python",
   "name": "python",
   "nbconvert_exporter": "python",
   "pygments_lexer": "ipython3",
   "version": "3.13.1"
  }
 },
 "nbformat": 4,
 "nbformat_minor": 2
}
