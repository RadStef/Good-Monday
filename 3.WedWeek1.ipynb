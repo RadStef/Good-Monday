{
 "cells": [
  {
   "cell_type": "code",
   "execution_count": 22,
   "metadata": {},
   "outputs": [],
   "source": [
    "#creating a list\n",
    "my_list =[\"i\", \"d\", \"l\", \"e\"]\n",
    "\n"
   ]
  },
  {
   "cell_type": "code",
   "execution_count": 23,
   "metadata": {},
   "outputs": [
    {
     "name": "stdout",
     "output_type": "stream",
     "text": [
      "['i', 'd', 'l', 'e']\n"
     ]
    }
   ],
   "source": [
    "print(my_list)"
   ]
  },
  {
   "cell_type": "code",
   "execution_count": 24,
   "metadata": {},
   "outputs": [],
   "source": [
    "#deleting elements from my_list\n",
    "del my_list[2:4]"
   ]
  },
  {
   "cell_type": "code",
   "execution_count": 7,
   "metadata": {},
   "outputs": [
    {
     "name": "stdout",
     "output_type": "stream",
     "text": [
      "['i', 'd']\n"
     ]
    }
   ],
   "source": [
    "print(my_list)"
   ]
  },
  {
   "cell_type": "code",
   "execution_count": 8,
   "metadata": {},
   "outputs": [],
   "source": [
    "#replacing indexed element no.1\n",
    "my_list[1] = \"n\""
   ]
  },
  {
   "cell_type": "code",
   "execution_count": 25,
   "metadata": {},
   "outputs": [
    {
     "name": "stdout",
     "output_type": "stream",
     "text": [
      "['i', 'd']\n"
     ]
    }
   ],
   "source": [
    "print(my_list)"
   ]
  },
  {
   "cell_type": "code",
   "execution_count": 26,
   "metadata": {},
   "outputs": [],
   "source": [
    "new_list = [\"s\"] +my_list"
   ]
  },
  {
   "cell_type": "code",
   "execution_count": 27,
   "metadata": {},
   "outputs": [
    {
     "name": "stdout",
     "output_type": "stream",
     "text": [
      "['s', 'i', 'd']\n"
     ]
    }
   ],
   "source": [
    "print(new_list)"
   ]
  },
  {
   "cell_type": "code",
   "execution_count": 12,
   "metadata": {},
   "outputs": [],
   "source": [
    "#appending\n",
    "new_list.append(\"g\")"
   ]
  },
  {
   "cell_type": "code",
   "execution_count": 28,
   "metadata": {},
   "outputs": [
    {
     "name": "stdout",
     "output_type": "stream",
     "text": [
      "['s', 'i', 'd']\n"
     ]
    }
   ],
   "source": [
    "print(new_list)"
   ]
  },
  {
   "cell_type": "code",
   "execution_count": 29,
   "metadata": {},
   "outputs": [],
   "source": [
    "#insert function\n",
    "new_list.insert(1,\"t\")\n"
   ]
  },
  {
   "cell_type": "code",
   "execution_count": 18,
   "metadata": {},
   "outputs": [
    {
     "name": "stdout",
     "output_type": "stream",
     "text": [
      "['s', 't']\n"
     ]
    }
   ],
   "source": [
    "print(new_list)"
   ]
  },
  {
   "cell_type": "code",
   "execution_count": 30,
   "metadata": {},
   "outputs": [
    {
     "name": "stdout",
     "output_type": "stream",
     "text": [
      "['s', 't']\n"
     ]
    }
   ],
   "source": [
    "del new_list[2:4]\n",
    "print(new_list)"
   ]
  },
  {
   "cell_type": "code",
   "execution_count": 34,
   "metadata": {},
   "outputs": [
    {
     "name": "stdout",
     "output_type": "stream",
     "text": [
      "t\n"
     ]
    }
   ],
   "source": [
    "import random\n",
    "letter = random.choice(new_list)\n",
    "print(letter)"
   ]
  },
  {
   "cell_type": "code",
   "execution_count": 35,
   "metadata": {},
   "outputs": [],
   "source": [
    "#creating a new empty list\n",
    "final_list = []\n",
    "\n",
    "for i in new_list:\n",
    "    final_list.append(new_list.index(i))\n"
   ]
  },
  {
   "cell_type": "code",
   "execution_count": 36,
   "metadata": {},
   "outputs": [
    {
     "name": "stdout",
     "output_type": "stream",
     "text": [
      "[0, 1]\n"
     ]
    }
   ],
   "source": [
    "print(final_list)"
   ]
  },
  {
   "cell_type": "code",
   "execution_count": 37,
   "metadata": {},
   "outputs": [
    {
     "data": {
      "text/plain": [
       "1"
      ]
     },
     "execution_count": 37,
     "metadata": {},
     "output_type": "execute_result"
    }
   ],
   "source": [
    "##sum an element\n",
    "sum(final_list)"
   ]
  },
  {
   "cell_type": "code",
   "execution_count": 38,
   "metadata": {},
   "outputs": [
    {
     "data": {
      "text/plain": [
       "2"
      ]
     },
     "execution_count": 38,
     "metadata": {},
     "output_type": "execute_result"
    }
   ],
   "source": [
    "#counter the number of elements in the list - len-function\n",
    "len(final_list)"
   ]
  },
  {
   "cell_type": "code",
   "execution_count": 39,
   "metadata": {},
   "outputs": [],
   "source": [
    "# assessing the elements in list by their index\n",
    "my_new_list=[\"one\", \"two\", \"three\"]"
   ]
  },
  {
   "cell_type": "code",
   "execution_count": 42,
   "metadata": {},
   "outputs": [
    {
     "name": "stdout",
     "output_type": "stream",
     "text": [
      "['one', 'two', 'three']\n"
     ]
    }
   ],
   "source": [
    "print(my_new_list[0:5])"
   ]
  },
  {
   "cell_type": "code",
   "execution_count": 43,
   "metadata": {},
   "outputs": [
    {
     "name": "stdout",
     "output_type": "stream",
     "text": [
      "three\ttwo\tone\t"
     ]
    }
   ],
   "source": [
    "for i in reversed (my_new_list):\n",
    "    print(i, end=\"\\t\")"
   ]
  },
  {
   "cell_type": "code",
   "execution_count": 45,
   "metadata": {},
   "outputs": [
    {
     "name": "stdout",
     "output_type": "stream",
     "text": [
      "That is not a valid integer. Please enter an integer number.\n",
      "That is not a valid integer. Please enter an integer number.\n",
      "The sum of the numbers is: 8863\n",
      "The average of the numberss is: 886.3\n",
      "2 is below average\n",
      "3 is below average\n",
      "5 is below average\n",
      "45 is below average\n",
      "65 is below average\n",
      "343 is below average\n",
      "676 is below average\n",
      "45 is below average\n",
      "7676 is above average\n",
      "3 is below average\n"
     ]
    }
   ],
   "source": [
    "## initialise an empty list that the user will enter their number in\n",
    "user_numbers =[]\n",
    "\n",
    "##function to specify the number of input by user\n",
    "for i in  range (1,11):\n",
    "    while True:\n",
    "        user_input = input(f\"Please enter an integer number {i}: \")\n",
    "        try:\n",
    "            num = int(user_input)\n",
    "            user_numbers.append(num)\n",
    "            break\n",
    "        except ValueError:\n",
    "            print(\"That is not a valid integer. Please enter an integer number.\")\n",
    "\n",
    "## calculate the sum and average of the numbers\n",
    "total_sum = sum(user_numbers)\n",
    "average = total_sum/len(user_numbers)\n",
    "\n",
    "##output the result:\n",
    "\n",
    "print(f\"The sum of the numbers is: {total_sum}\")\n",
    "print(f\"The average of the numberss is: {average}\")\n",
    "\n",
    "\n",
    "##displaying the numbers based on their proportion:\n",
    "\n",
    "for num in user_numbers:\n",
    "    if num < average:\n",
    "        proportion =\"below\"\n",
    "    elif num >average:\n",
    "        proportion = \"above\"\n",
    "    else:\n",
    "        proportion = \"equal to\"\n",
    "    print(f\"{num} is {proportion} average\")"
   ]
  },
  {
   "cell_type": "code",
   "execution_count": 46,
   "metadata": {},
   "outputs": [
    {
     "name": "stdout",
     "output_type": "stream",
     "text": [
      "W\n"
     ]
    }
   ],
   "source": [
    "my_string = \"Hello World\"\n",
    "print(my_string[6])"
   ]
  },
  {
   "cell_type": "code",
   "execution_count": 47,
   "metadata": {},
   "outputs": [
    {
     "name": "stdout",
     "output_type": "stream",
     "text": [
      "Hello\n"
     ]
    }
   ],
   "source": [
    "print(my_string[0:5])"
   ]
  },
  {
   "cell_type": "code",
   "execution_count": 48,
   "metadata": {},
   "outputs": [
    {
     "data": {
      "text/plain": [
       "'Cello'"
      ]
     },
     "execution_count": 48,
     "metadata": {},
     "output_type": "execute_result"
    }
   ],
   "source": [
    "\"C\"+ my_string[1:5]"
   ]
  },
  {
   "cell_type": "code",
   "execution_count": 52,
   "metadata": {},
   "outputs": [
    {
     "data": {
      "text/plain": [
       "3.15"
      ]
     },
     "execution_count": 52,
     "metadata": {},
     "output_type": "execute_result"
    }
   ],
   "source": [
    "number = 3.1472\n",
    "round(number, 2)"
   ]
  },
  {
   "cell_type": "code",
   "execution_count": 54,
   "metadata": {},
   "outputs": [
    {
     "data": {
      "text/plain": [
       "4.1472"
      ]
     },
     "execution_count": 54,
     "metadata": {},
     "output_type": "execute_result"
    }
   ],
   "source": [
    "eval(\"number +1\")\n"
   ]
  },
  {
   "cell_type": "code",
   "execution_count": 65,
   "metadata": {},
   "outputs": [
    {
     "data": {
      "text/plain": [
       "5"
      ]
     },
     "execution_count": 65,
     "metadata": {},
     "output_type": "execute_result"
    }
   ],
   "source": [
    "import random\n",
    "random.randint(1,5)\n"
   ]
  },
  {
   "cell_type": "code",
   "execution_count": 66,
   "metadata": {},
   "outputs": [],
   "source": [
    "##user defined functions:\n",
    "# defining the square of a number:\n",
    "def square(no):\n",
    "    square__number = no **2\n",
    "    return square__number"
   ]
  },
  {
   "cell_type": "code",
   "execution_count": 29,
   "metadata": {},
   "outputs": [
    {
     "data": {
      "text/plain": [
       "25"
      ]
     },
     "execution_count": 29,
     "metadata": {},
     "output_type": "execute_result"
    }
   ],
   "source": [
    "square(5)"
   ]
  },
  {
   "cell_type": "code",
   "execution_count": 30,
   "metadata": {},
   "outputs": [],
   "source": [
    "#def functions Task1\n",
    "def convert_lb_to_kg (no):\n",
    "    #defining lb to kg ratio\n",
    "    convert_lb_to_kg = no/2.2\n",
    "    return convert_lb_to_kg\n",
    "\n"
   ]
  },
  {
   "cell_type": "code",
   "execution_count": 31,
   "metadata": {},
   "outputs": [
    {
     "data": {
      "text/plain": [
       "2.727272727272727"
      ]
     },
     "execution_count": 31,
     "metadata": {},
     "output_type": "execute_result"
    }
   ],
   "source": [
    "convert_lb_to_kg(6)"
   ]
  },
  {
   "cell_type": "code",
   "execution_count": 37,
   "metadata": {},
   "outputs": [],
   "source": [
    "#def functon to ceonvert Fah to Cel temp\n",
    "def convert_to_Celsius(no):\n",
    "    #defining convertion formula:\n",
    "    convert_to_Celsius = ((no-32)*(5/9))\n",
    "    return convert_to_Celsius\n",
    "    \n",
    "    "
   ]
  },
  {
   "cell_type": "code",
   "execution_count": 38,
   "metadata": {},
   "outputs": [
    {
     "data": {
      "text/plain": [
       "32.22222222222222"
      ]
     },
     "execution_count": 38,
     "metadata": {},
     "output_type": "execute_result"
    }
   ],
   "source": [
    "convert_to_Celsius(90)"
   ]
  },
  {
   "cell_type": "code",
   "execution_count": 41,
   "metadata": {},
   "outputs": [],
   "source": [
    "#conversion def by tutor:\n",
    "def convert_to_kg (pounds):\n",
    "    kilograms = pounds /2.2\n",
    "    return kilograms\n"
   ]
  },
  {
   "cell_type": "code",
   "execution_count": 46,
   "metadata": {},
   "outputs": [
    {
     "data": {
      "text/plain": [
       "111.36363636363636"
      ]
     },
     "execution_count": 46,
     "metadata": {},
     "output_type": "execute_result"
    }
   ],
   "source": [
    "convert_to_kg(245)\n"
   ]
  },
  {
   "cell_type": "code",
   "execution_count": 49,
   "metadata": {},
   "outputs": [],
   "source": [
    "#conv fun by tutor: Celsius\n",
    "def convert_to_celsius2 (degrees_fahrenheit):\n",
    "    degree_celsius = (degrees_fahrenheit-32)*(5/9)\n",
    "    return degree_celsius\n"
   ]
  },
  {
   "cell_type": "code",
   "execution_count": 50,
   "metadata": {},
   "outputs": [
    {
     "data": {
      "text/plain": [
       "29.444444444444446"
      ]
     },
     "execution_count": 50,
     "metadata": {},
     "output_type": "execute_result"
    }
   ],
   "source": [
    "convert_to_celsius2(85)"
   ]
  },
  {
   "cell_type": "code",
   "execution_count": 52,
   "metadata": {},
   "outputs": [
    {
     "data": {
      "text/plain": [
       "'I am Great'"
      ]
     },
     "execution_count": 52,
     "metadata": {},
     "output_type": "execute_result"
    }
   ],
   "source": [
    "#global variable:\n",
    "var = \"I am Great\"\n",
    "\n",
    "#define a function that can access that variable:\n",
    "def global_var():\n",
    "    variable = var\n",
    "    return variable\n",
    "\n",
    "global_var()"
   ]
  },
  {
   "cell_type": "code",
   "execution_count": 53,
   "metadata": {},
   "outputs": [
    {
     "name": "stdout",
     "output_type": "stream",
     "text": [
      "I am happy\n"
     ]
    }
   ],
   "source": [
    "#local variable:\n",
    "def my_func():\n",
    "    local_var =\"I am happy\"\n",
    "    print(local_var)\n",
    "\n",
    "my_func()"
   ]
  },
  {
   "cell_type": "code",
   "execution_count": 55,
   "metadata": {},
   "outputs": [
    {
     "name": "stdout",
     "output_type": "stream",
     "text": [
      "mango,banana\n",
      "\n",
      "pawpaw, carrot\n",
      "\n",
      "orange, yam\n"
     ]
    }
   ],
   "source": [
    "## read from a .txt.file:\n",
    "with open(\"test.txt\", \"r\") as file:\n",
    "    for line in file:\n",
    "        print(line)"
   ]
  },
  {
   "cell_type": "code",
   "execution_count": 74,
   "metadata": {},
   "outputs": [
    {
     "name": "stdout",
     "output_type": "stream",
     "text": [
      "mango mango\n",
      "pawpaw pawpaw\n",
      "orange orange\n"
     ]
    }
   ],
   "source": [
    "## mango,banana --- [\"mango\" , \"banana\"\\n]\n",
    "\n",
    "## pawpaw, carrot ---[\"pawpaw\" , \"carrot\"\\n]\n",
    "\n",
    "## orange, yam ---[\"orange\" , \"yam\"\\n]\n",
    "\n",
    "with open(\"test.txt\",\"r\") as file:\n",
    "    for line in file:\n",
    "        line = line.split(\",\")\n",
    "        print(line[0], line[0].rstrip())"
   ]
  },
  {
   "cell_type": "code",
   "execution_count": 75,
   "metadata": {},
   "outputs": [],
   "source": [
    "## writing or appending to a file\n",
    "def save_to_file(first_name, surname, age):\n",
    "    with open(\"new data.txt\", \"w\") as f:\n",
    "        line = \",\".join([first_name, surname, age])\n",
    "        f.write( \"\\n\" + line)\n",
    "        f.close()\n",
    "first_name = input(\"Enter your first name: \")\n",
    "surname =  input(\"Enter your surname: \")\n",
    "age =  input(\"How old are you: \")\n",
    "save_to_file(first_name,surname, age)\n"
   ]
  },
  {
   "cell_type": "code",
   "execution_count": 71,
   "metadata": {},
   "outputs": [
    {
     "name": "stdout",
     "output_type": "stream",
     "text": [
      "mango banana\n",
      "pawpaw  carrot\n",
      "orange  yam\n"
     ]
    }
   ],
   "source": [
    "## reading from cvs file\n",
    "import csv\n",
    "with open(\"csvdata.csv\", \"r\") as csvfile:\n",
    "    reader = csv.reader(csvfile)\n",
    "    for line in reader:\n",
    "        print(line[0],line[1])\n",
    "        "
   ]
  },
  {
   "cell_type": "code",
   "execution_count": 74,
   "metadata": {},
   "outputs": [],
   "source": [
    "## writting to a csv file\n",
    "with open(\"snowing.csv\", mode=\"a\") as csv_file:\n",
    "    character_writer = csv.writer(csv_file, delimiter=\",\", quotechar=\"'\", quoting=csv.QUOTE_MINIMAL)\n",
    "    character_writer.writerow([\"Margo\", \"GRU\"])\n",
    "    character_writer.writerow([\"Someone\", \"Nice\"])\n",
    "    character_writer.writerow([\"John\",\"Doe\"]) "
   ]
  },
  {
   "cell_type": "code",
   "execution_count": 1,
   "metadata": {},
   "outputs": [
    {
     "name": "stdout",
     "output_type": "stream",
     "text": [
      "Attendance logged successfully\n"
     ]
    }
   ],
   "source": [
    "## WeekEnd1 Challenge\n",
    "\n",
    "#import the csv library (CSV to be created*)\n",
    "import csv\n",
    "## john, Doe\n",
    "\n",
    "#function to open the file and return name list\n",
    "def openfile():\n",
    "    names = []\n",
    "    #open the csv file in read mode\n",
    "    with open(\"csvdata.csv\", \"r\") as csvfile:\n",
    "        reader = csv.reader(csvfile)\n",
    "       #for each line in the file add the data to the name list\n",
    "        for line in reader:\n",
    "            #add the data from the line to the end of end of the names list\n",
    "            names.append(line)\n",
    "    #return the list of names\n",
    "    return names\n",
    "#function to take attendance\n",
    "def takeattendance(name_list):\n",
    "    attendance_list = []\n",
    "    #loop through the name_list\n",
    "    for name in name_list:\n",
    "        # check if attended\n",
    "        promptstring = name[0] + \" \" + name[1] + \" present? y/n:\"\n",
    "        attendance = input(promptstring)\n",
    "        # add the first name second name and attendance to attendance_list\n",
    "        attendance_list.append([name[0]] + [name[1]] + [attendance])\n",
    "    #return attendance_list\n",
    "    return attendance_list\n",
    "#function to wirte data to csv file\n",
    "def writefile(attendacelist):\n",
    "    #open the csv file in append mode\n",
    "    with open('attendance.csv', mode='a') as csv_file:\n",
    "        attendance_writer = csv.writer(csv_file, delimiter=',', quotechar='\"', quoting=csv.QUOTE_MINIMAL)\n",
    "        # loop through the attendance list and write the data to a row in csv file\n",
    "        for student in attendancelist:\n",
    "            attendance_writer.writerow([student[0], student[1], student[2]])\n",
    "    #print success message\n",
    "    print(\"Attendance logged successfully\")\n",
    "#call open list - returns a 2d list of names [[firstname,surname],...]\n",
    "namelist = openfile()\n",
    "#call take attendancefunction passing the name list generated above\n",
    "attendancelist = takeattendance(namelist)\n",
    "#write the results to file  by caling the  write file function\n",
    "writefile(attendancelist)\n",
    "\n",
    "\n",
    "\n",
    "\n",
    "\n",
    "\n",
    "\n",
    "\n",
    "\n",
    "\n",
    "\n"
   ]
  }
 ],
 "metadata": {
  "kernelspec": {
   "display_name": "Python 3",
   "language": "python",
   "name": "python3"
  },
  "language_info": {
   "codemirror_mode": {
    "name": "ipython",
    "version": 3
   },
   "file_extension": ".py",
   "mimetype": "text/x-python",
   "name": "python",
   "nbconvert_exporter": "python",
   "pygments_lexer": "ipython3",
   "version": "3.13.1"
  }
 },
 "nbformat": 4,
 "nbformat_minor": 2
}
